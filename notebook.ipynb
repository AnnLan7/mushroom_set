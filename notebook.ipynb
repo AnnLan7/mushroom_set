{
 "cells": [
  {
   "cell_type": "code",
   "execution_count": 1,
   "metadata": {},
   "outputs": [],
   "source": [
    "import pandas as pd\n",
    "from sklearn import preprocessing\n",
    "from sklearn.model_selection import train_test_split\n",
    "from sklearn.metrics import mean_absolute_error\n",
    "from sklearn.metrics import accuracy_score\n",
    "from sklearn.model_selection import cross_val_score\n",
    "#from xgboost import XGBRegressor\n",
    "from sklearn.neighbors import KNeighborsClassifier\n",
    "from sklearn.preprocessing import StandardScaler\n",
    "from sklearn.metrics import plot_confusion_matrix\n",
    "\n",
    "dataset_path = './mushroom_data_all.csv'\n",
    "dataset = pd.read_csv(dataset_path)\n",
    "dataset['class_edible'] = dataset['class_edible'].map({'e':1, 'p':0})\n",
    "\n",
    "features = ['cap-shape', 'cap-surface', 'cap-color', 'bruises',\n",
    "       'odor', 'gill-attachment', 'gill-spacing', 'gill-size', 'gill-color',\n",
    "       'stalk-shape', 'stalk-root', 'stalk-surface-above-ring',\n",
    "       'stalk-surface-below-ring', 'stalk-color-above-ring',\n",
    "       'stalk-color-below-ring', 'veil-type', 'veil-color', 'ring-number',\n",
    "       'ring-type', 'spore-print-color', 'population', 'habitat']\n",
    "\n",
    "le = preprocessing.LabelEncoder()\n",
    "for column in features:\n",
    "    dataset[column] = le.fit_transform(dataset[column])\n",
    "    \n",
    "y = dataset['class_edible']\n",
    "X = dataset[features]\n",
    "\n",
    "train_X, val_X, train_y, val_y = train_test_split(X, y, random_state=0, test_size=0.33)\n",
    "\n",
    "sc = StandardScaler()\n",
    "train_X = pd.DataFrame(sc.fit_transform(train_X))\n",
    "val_X = pd.DataFrame(sc.fit_transform(val_X))"
   ]
  },
  {
   "cell_type": "code",
   "execution_count": 2,
   "metadata": {},
   "outputs": [],
   "source": [
    "#results=[]\n",
    "#for i in range(1,10):\n",
    "#    model = KNeighborsClassifier(n_neighbors=i)\n",
    "#    model.fit(train_X, train_y)\n",
    "#    predicted = model.predict(val_X)\n",
    "#    print(i)\n",
    "#    mae = mean_absolute_error(val_y,predicted)\n",
    "#    print(predicted)\n",
    "#    train_accuracy = model.score(train_X,train_y)*100\n",
    "#    test_accuracy = model.score(val_X,val_y)*100\n",
    "#    print(mae)\n",
    "#    print(train_accuracy)\n",
    "#    print(test_accuracy)\n",
    "#    results.append(mae)   \n",
    "#from statistics import mean\n",
    "#mean(results)"
   ]
  },
  {
   "cell_type": "code",
   "execution_count": 3,
   "metadata": {},
   "outputs": [
    {
     "name": "stdout",
     "output_type": "stream",
     "text": [
      "[0 1 1 ... 0 1 0]\n"
     ]
    }
   ],
   "source": [
    "model = KNeighborsClassifier(n_neighbors=5)\n",
    "model.fit(train_X, train_y)\n",
    "predicted = model.predict(val_X)\n",
    "mae = mean_absolute_error(val_y,predicted)\n",
    "train_accuracy = model.score(train_X,train_y)*100\n",
    "test_accuracy = model.score(val_X,val_y)*100\n",
    "print(predicted)"
   ]
  },
  {
   "cell_type": "code",
   "execution_count": 4,
   "metadata": {},
   "outputs": [
    {
     "name": "stdout",
     "output_type": "stream",
     "text": [
      "Mean absolute error: \n",
      "0.0\n",
      "Training set accuracy: \n",
      "100.0\n",
      "Test set accuracy: \n",
      "100.0\n"
     ]
    }
   ],
   "source": [
    "print('Mean absolute error: ')\n",
    "print(mae)\n",
    "print('Training set accuracy: ')\n",
    "print(train_accuracy)\n",
    "print('Test set accuracy: ')\n",
    "print(test_accuracy)"
   ]
  },
  {
   "cell_type": "code",
   "execution_count": 5,
   "metadata": {},
   "outputs": [
    {
     "data": {
      "text/plain": [
       "<sklearn.metrics._plot.confusion_matrix.ConfusionMatrixDisplay at 0x24a47bafd90>"
      ]
     },
     "execution_count": 5,
     "metadata": {},
     "output_type": "execute_result"
    },
    {
     "data": {
      "image/png": "[encoded data removed]",
      "text/plain": [
       "<Figure size 432x288 with 2 Axes>"
      ]
     },
     "metadata": {
      "needs_background": "light"
     },
     "output_type": "display_data"
    }
   ],
   "source": [
    "plot_confusion_matrix(model,val_X,val_y)"
   ]
  },
  {
   "cell_type": "code",
   "execution_count": 8,
   "metadata": {},
   "outputs": [],
   "source": [
    "#results=[]\n",
    "#for i in [100,200,300,400,500,600,700,800,900,1000]:\n",
    "#    model = XGBRegressor(n_estimators=1000)\n",
    "#    model.fit(train_X, train_y, early_stopping_rounds=5, eval_set=[(val_X,val_y)])\n",
    "#    predicted = model.predict(val_X)\n",
    "#    print(i)\n",
    "#    mae = mean_absolute_error(val_y,predicted)\n",
    "#    print(predicted)\n",
    "#    accuracy = accuracy_score(predicted,val_y)*100\n",
    "#    print(mae)\n",
    "#    print(accuracy)\n",
    "#    results.append(mae)    "
   ]
  }
 ],
 "metadata": {
  "kernelspec": {
   "display_name": "Python 3",
   "language": "python",
   "name": "python3"
  },
  "language_info": {
   "codemirror_mode": {
    "name": "ipython",
    "version": 3
   },
   "file_extension": ".py",
   "mimetype": "text/x-python",
   "name": "python",
   "nbconvert_exporter": "python",
   "pygments_lexer": "ipython3",
   "version": "3.8.2"
  }
 },
 "nbformat": 4,
 "nbformat_minor": 4
}
